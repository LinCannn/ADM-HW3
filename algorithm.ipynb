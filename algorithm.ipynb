{
 "cells": [
  {
   "cell_type": "markdown",
   "metadata": {},
   "source": [
    "Before starting we import all the libraries we need"
   ]
  },
  {
   "cell_type": "code",
   "execution_count": 42,
   "metadata": {},
   "outputs": [],
   "source": [
    "from myFunctions import *\n",
    "import requests\n",
    "from bs4 import BeautifulSoup\n",
    "import re"
   ]
  },
  {
   "cell_type": "markdown",
   "metadata": {},
   "source": [
    "# <strong> Data collection"
   ]
  },
  {
   "cell_type": "markdown",
   "metadata": {},
   "source": [
    "## <strong> 1.1 Get the list of Michelin restaraunts"
   ]
  },
  {
   "cell_type": "markdown",
   "metadata": {},
   "source": [
    "Before scraping all the restaurant URLs, let's first determine the maximum page number. It's simple to find the correct CSS selector for the page list: just inspect the list of pages in your browser and identify the corresponding class or element name."
   ]
  },
  {
   "cell_type": "markdown",
   "metadata": {},
   "source": [
    "<img title = \"list of pages\" src=\"images/pages_number.png\">"
   ]
  },
  {
   "cell_type": "code",
   "execution_count": 43,
   "metadata": {},
   "outputs": [
    {
     "name": "stdout",
     "output_type": "stream",
     "text": [
      "There are in total: 102 pages\n"
     ]
    }
   ],
   "source": [
    "page_links = soup.select('ul.pagination li a') #name of the pages list\n",
    "page_numbers = [int(a.get_text()) for a in page_links if a.get_text().isdigit()]\n",
    "\n",
    "# Get the maximum page number\n",
    "total_pages = max(page_numbers) if page_numbers else 0\n",
    "print(f'There are in total: {total_pages} pages')"
   ]
  },
  {
   "cell_type": "markdown",
   "metadata": {},
   "source": [
    "Now we can very easily get the URL of each page"
   ]
  },
  {
   "cell_type": "code",
   "execution_count": 44,
   "metadata": {},
   "outputs": [],
   "source": [
    "pages = ['https://guide.michelin.com/en/it/restaurants'] #Initial page\n",
    "\n",
    "for i in range(2, total_pages+1): #get all other pages from 2 to total_pages included\n",
    "    pages.append('https://guide.michelin.com/en/it/restaurants/page/'+str(i))"
   ]
  },
  {
   "cell_type": "markdown",
   "metadata": {},
   "source": [
    "Now in order to get the URLs of all the restaraunts, we proceed the same by identifying the name of the corresponding class in the webpage."
   ]
  },
  {
   "cell_type": "markdown",
   "metadata": {},
   "source": [
    "<img title = \"Class of a restaraunt\" src=\"images/restaurant_link.png\">"
   ]
  },
  {
   "cell_type": "markdown",
   "metadata": {},
   "source": [
    "We can clearly see that the restaurant URLs follow a consistent pattern, which can be expressed using the regular expression:\n",
    "\n",
    "```plaintext\n",
    "BASE_URL/en/region/city/restaurant/name_of_restaurant\n",
    "```\n"
   ]
  },
  {
   "cell_type": "code",
   "execution_count": null,
   "metadata": {},
   "outputs": [],
   "source": [
    "total_urls = [] #save all urls\n",
    "base = 'https://guide.michelin.com' #base url to use"
   ]
  },
  {
   "cell_type": "code",
   "execution_count": 58,
   "metadata": {},
   "outputs": [],
   "source": [
    "for p in pages: #loop all pages\n",
    "    response = requests.get(p) #get the page\n",
    "    soup = BeautifulSoup(response.content, \"html.parser\") # we use BeautifulSoup to get the content\n",
    "    links = soup.select('a.link') #select all the class 'a link'\n",
    "    pattern = re.compile(r'^/en/[^/]+/[^/]+/restaurant/[^/]+$') #pattern of restaurants\n",
    "    restaurant_links = [base+link.get('href') for link in links if pattern.match(link.get('href', ''))] #get all the restaurants links\n",
    "    total_urls.append(restaurant_links)"
   ]
  },
  {
   "cell_type": "markdown",
   "metadata": {},
   "source": [
    "Now we save all the urls inside a txt called 'restaurant_urls.txt'"
   ]
  },
  {
   "cell_type": "code",
   "execution_count": null,
   "metadata": {},
   "outputs": [],
   "source": [
    "with open('restaurant_urls.txt', 'w') as f: \n",
    "    page_count = 1  # Initialize the page count\n",
    "    for urls in total_urls:\n",
    "        f.write(f'Page {page_count}:\\n')  # Add a label for the page number\n",
    "        for url in urls: # Write each URL from the current page\n",
    "            f.write(f'{url}\\n')  \n",
    "        \n",
    "        page_count += 1 # Increment the page count"
   ]
  },
  {
   "cell_type": "code",
   "execution_count": null,
   "metadata": {},
   "outputs": [
    {
     "name": "stdout",
     "output_type": "stream",
     "text": [
      "2037\n"
     ]
    }
   ],
   "source": [
    "print(sum([len(u) for u in total_urls])) # how many restaurant we got"
   ]
  },
  {
   "cell_type": "markdown",
   "metadata": {},
   "source": [
    "## Algorithmic Question (AQ)\n",
    "\n",
    "A robot is in a warehouse represented by a coordinate grid and needs to collect $n$ packages. It starts at $(0,0)$, and the $i$-th package is at $(x_i, y_i)$. No two packages are at the same coordinates, and $(0,0)$ is empty. The robot can only move up (__'U'__) or right (__'R'__), either from $(x, y)$ to $(x + 1, y)$ or $(x, y+ 1) $. The goal is to collect all $n$ packages with the fewest moves, choosing the lexicographically smallest path if multiple shortest paths exist.\n",
    "\n",
    "**Input**\n",
    "\n",
    "- The first line contains $t (1  \\le t \\le 10)$  — the number of test cases.\n",
    "- Each test case starts with $n ( 1 \\le n \\le 100)$, the number of packages.\n",
    "- The next $n$ lines contain the coordinates $x_i, y_i (0 \\le x_i, y_i \\le 100)$ for each package.\n",
    "\n",
    "\n",
    "**Output**\n",
    "\n",
    "- For each test case, print \"YES\" and the lexicographically smallest path, or \"NO\" if it’s impossible to collect all packages.\n",
    "\n",
    "## Examples\n",
    "**Input**\n",
    "```\n",
    "3\n",
    "5\n",
    "1 3\n",
    "1 2\n",
    "3 3\n",
    "5 5\n",
    "4 3\n",
    "2\n",
    "1 0\n",
    "0 1\n",
    "1\n",
    "4 3\n",
    "```\n",
    "\n",
    "**Output**\n",
    "```\n",
    "YES\n",
    "RUUURRRRUU\n",
    "NO\n",
    "YES\n",
    "RRRRUUU\n",
    "```\n"
   ]
  },
  {
   "cell_type": "markdown",
   "metadata": {},
   "source": [
    "\n",
    "1. Write the pseudocode for an algorithm that solves this problem. \n",
    "2. Prove that your algorithm is correct. \n",
    "3. Compute the time complexity of your algorithm in Big O notation. Break down the steps involved in the algorithm, and explain which parts contribute most to the overall time complexity.\n",
    "4.  Ask an LLM tool (such as ChatGPT, Claude AI, Gemini, Perplexity, etc.) to evaluate the time complexity of your code using Big O notation. Is the assessment accurate? If it differs from your previous analysis, which would be correct? Please explain your reasoning.\n",
    "5.  Assume now that the robot can also move towards the left or downwards, and consider the greedy approach: from the current location go to the closest package. Notice that now we can always collect all packages. Prove that the greedy algorithm is optimal (i.e., it minimizes the total distance traveled), or provide a counterexample showing that it is not.\n"
   ]
  },
  {
   "cell_type": "code",
   "execution_count": null,
   "metadata": {},
   "outputs": [
    {
     "name": "stdout",
     "output_type": "stream",
     "text": [
      "YES\n",
      "URRU\n",
      "NO\n"
     ]
    }
   ],
   "source": [
    "t = int(input())\n",
    "for _ in range(t):\n",
    "    n = int(input())\n",
    "    pkg = []\n",
    "    for _ in range(n):\n",
    "        x, y = map(int, input().split())\n",
    "        pkg.append((x, y))\n",
    "    \n",
    "    pkg.sort()\n",
    "    \n",
    "    coord_x, coord_y = 0, 0\n",
    "    path = \"\"\n",
    "    possible = True\n",
    "    for x_i, y_i in pkg:\n",
    "        if x_i < coord_x or y_i < coord_y:\n",
    "            possible = False\n",
    "            break\n",
    "        \n",
    "        right_move = x_i - coord_x\n",
    "        up_move = y_i - coord_y\n",
    "        \n",
    "        path += \"R\" * right_move\n",
    "        path += \"U\" * up_move\n",
    "        \n",
    "        coord_x, coord_y = x_i, y_i\n",
    "\n",
    "    if possible:\n",
    "        print(\"YES\")\n",
    "        print(path)\n",
    "    else:\n",
    "        print(\"NO\")\n"
   ]
  },
  {
   "cell_type": "markdown",
   "metadata": {},
   "source": [
    "#### **Time Complexity**\n",
    "Let's start evaluating the time complexity of our algorithm\n",
    "- In the second row we have a for loop \n",
    "```python\n",
    "for _ in range(t)\n",
    "```\n",
    "so whatever come after need to be multiplicated by t. \n",
    "\n",
    "- The inner for loop for the input for the rows of the n points :\n",
    "```python\n",
    "    for _ in range(n):\n",
    "        x, y = map(int, input().split())\n",
    "        pkg.append((x, y))\n",
    "```\n",
    "have time complexity $O(n)$.\n",
    "\n",
    "- Now the sort of the coordinates :\n",
    "```python\n",
    "    pkg.sort()\n",
    "```\n",
    "have time complexity $O(n \\log n)$ beacuse the sort algorithm implemented in python is the BubbleSort. \n",
    "\n",
    "- We have another inner for loop where we iterate on all the n coordinates and we describe the path, we control with an if statement that is only two operation  $x_i < coord_x$ or $y_i < coord_y:$ , we describe the right_move and up_move that are another two operations,  we update the path that and the coordinates with other 4 operations: \n",
    "```python\n",
    "    for x_i, y_i in pkg:\n",
    "        if x_i < coord_x or y_i < coord_y:\n",
    "            possible = False\n",
    "            break\n",
    "        \n",
    "        right_move = x_i - coord_x\n",
    "        up_move = y_i - coord_y\n",
    "        \n",
    "        path += \"R\" * right_move\n",
    "        path += \"U\" * up_move\n",
    "        \n",
    "        coord_x, coord_y = x_i, y_i\n",
    "```\n",
    "so the time complexity is $O(n+k)$ where $k$ is a constant. \n",
    "\n",
    "- In the end we only print the result with an operation that have a time complexity of $O(n)$:\n",
    "```python\n",
    "    if possible:\n",
    "        print(\"YES\")\n",
    "        print(path)\n",
    "    else:\n",
    "        print(\"NO\")\n",
    "```\n",
    "\n",
    "So the time complexity of the complete algorithm is in the order of $n \\log n$ repeated $t$ times , then with the Big $O$ notation is \n",
    "$$\n",
    "O(n \\log n \\cdot t)\n",
    "$$"
   ]
  },
  {
   "cell_type": "markdown",
   "metadata": {},
   "source": [
    "#### **Chat GPT Answer**\n",
    "To analyze the time complexity of this code, let’s go through each part and examine the operations that contribute to the overall complexity.\n",
    "\n",
    "##### Code Analysis\n",
    "\n",
    "1. **Reading Input for `t` Test Cases**  \n",
    "   The outer loop runs `t` times, where `t` is the number of test cases. Since each test case operates independently, we can analyze the complexity of a single test case and multiply by `t` at the end.\n",
    "\n",
    "2. **Reading `n` Packages and Storing in a List**  \n",
    "   For each test case, we read `n` pairs of integers representing the coordinates `(x, y)` of the packages.  \n",
    "   - **Time complexity for reading input**:$( O(n) )$  \n",
    "     Each coordinate pair is added to the list `pkg` in constant time.\n",
    "\n",
    "3. **Sorting the List of Packages**  \n",
    "   After reading all the package coordinates, we sort the list `pkg` by their `(x, y)` coordinates.  \n",
    "   - **Time complexity for sorting**: $( O(n \\log n) )$  \n",
    "     Sorting the list of size `n` by coordinates takes $( O(n \\log n) )$ time.\n",
    "\n",
    "4. **Checking Reachability and Constructing the Path**  \n",
    "   We then iterate over each package in `pkg` to determine if it is reachable and to build the path string.\n",
    "   - For each package, we check if moving to its coordinates is possible and, if so, calculate the steps needed to reach it.\n",
    "   - Appending \"R\" and \"U\" steps to the `path` string occurs in proportion to the distance moved.  \n",
    "   - **Time complexity for checking and constructing path**: $( O(n) )$\n",
    "\n",
    "5. **Outputting the Result**  \n",
    "   After constructing the path for each test case, we print the result. This output is proportional to the length of `path`, which in the worst case could be $( O(n) )$, but it does not affect the asymptotic complexity of the main algorithm.\n",
    "\n",
    "### Overall Complexity per Test Case\n",
    "For each test case, the main operations are:\n",
    "- Reading and storing the packages: $( O(n) )$\n",
    "- Sorting the packages: $( O(n \\log n) )$\n",
    "- Constructing the path and checking reachability: $( O(n) )$\n",
    "\n",
    "Thus, the time complexity per test case is dominated by the sorting step:\n",
    "$$\n",
    "O(n \\log n)\n",
    "$$\n",
    "\n",
    "### Overall Complexity for All Test Cases\n",
    "Since there are `t` test cases, the total complexity is:\n",
    "$$\n",
    "O(t \\cdot n \\log n)\n",
    "$$\n",
    "\n",
    "### Summary\n",
    "The **time complexity** of the entire code is:\n",
    "$$\n",
    "O(t \\cdot n \\log n)\n",
    "$$\n",
    "where `t` is the number of test cases and `n` is the number of packages in each test case."
   ]
  },
  {
   "cell_type": "markdown",
   "metadata": {},
   "source": [
    "### **Greedy Algorithm**"
   ]
  },
  {
   "cell_type": "code",
   "execution_count": 19,
   "metadata": {},
   "outputs": [
    {
     "name": "stdout",
     "output_type": "stream",
     "text": [
      "URRU\n",
      "UURRRURDRUUU\n"
     ]
    }
   ],
   "source": [
    "t = int(input())\n",
    "for _ in range(t):\n",
    "    n = int(input())\n",
    "    pkg = []\n",
    "    for _ in range(n):\n",
    "        x, y = map(int, input().split())\n",
    "        pkg.append((x, y))\n",
    "    \n",
    "    pkg.sort() \n",
    "    \n",
    "    coord_x, coord_y = 0, 0\n",
    "    path = \"\"\n",
    "    \n",
    "    for x_i, y_i in pkg:\n",
    "        right_move = 0\n",
    "        left_move = 0\n",
    "        up_move = 0\n",
    "        down_move = 0\n",
    "        \n",
    "        if x_i > coord_x:\n",
    "            right_move = x_i - coord_x\n",
    "        elif x_i < coord_x:\n",
    "            left_move = coord_x - x_i\n",
    "        \n",
    "        if y_i > coord_y:\n",
    "            up_move = y_i - coord_y\n",
    "        elif y_i < coord_y:\n",
    "            down_move = coord_y - y_i\n",
    "        \n",
    "        path += \"R\" * right_move\n",
    "        path += \"L\" * left_move\n",
    "        path += \"U\" * up_move\n",
    "        path += \"D\" * down_move\n",
    "\n",
    "        coord_x, coord_y = x_i, y_i\n",
    "\n",
    "    print(path)\n"
   ]
  },
  {
   "cell_type": "markdown",
   "metadata": {},
   "source": [
    "###  Optimality\n",
    "To make this algorithm optimal, it should be able to collect all packages while covering the shortest possible path, so optimality here is in terms of distance.\n",
    "\n",
    "1. **Problem**:\n",
    "The sorting algorithm might not always find the shortest path, instead finding a suboptimal one.\n",
    "\n",
    "The best way to ensure the shortest path would be introduce a function to calculate the distance within the algorithm and minimize this distance.\n",
    "\n",
    "\n",
    "2. **Counterexample**:\n",
    "A counterexample would be a case where the sorting algorithm leads to a non-optimal order: \n",
    "\n",
    "$(0, 2)$, $(2, 0)$, and $(2, 2)$. \n",
    "\n",
    "Sorting them lexicographically gives:\n",
    "\n",
    "```python\n",
    "\n",
    "pkg.sort()\n",
    "[(0, 2), (2, 0), (2, 2)]\n",
    "\n",
    "```\n",
    "\n",
    "The distance with this order would be: \n",
    "- $2$ from $(0,0)$ to $(0,2)$  so $UU$\n",
    "- $4$ from $(0,2)$ to $(2,0)$  so $UULL$\n",
    "- $2$ from $(2,0)$ to $(2,2)$  so $RR$\n",
    "\n",
    "So the total distance is $2 + 4 + 2 = 8$.\n",
    "\n",
    "However the best path would be $(0,2) \\rightarrow (2,2) \\rightarrow (2,0)$\n",
    "\n",
    "With a distance of: \n",
    "- $2$ from $(0,0)$ to $(0,2)$\n",
    "- $2$ from $(0,2)$ to $(2,2)$\n",
    "- $2$ from $(2,2)$ to $(2,0)$\n",
    "\n",
    "So the total distance is $2 + 2 + 2 = 6$, which is shorter.\n",
    "\n",
    "##### **Conclusion**\n",
    "The algorithm does not guarantee optimality in terms of minimizing the travel distance.\n",
    "\n",
    "So let's create a new optimal algorithm."
   ]
  },
  {
   "cell_type": "code",
   "execution_count": null,
   "metadata": {},
   "outputs": [
    {
     "name": "stdout",
     "output_type": "stream",
     "text": [
      "UURRDD\n",
      "6\n"
     ]
    }
   ],
   "source": [
    "import math\n",
    "\n",
    "def euclidean_distance(p1, p2):\n",
    "    return math.sqrt((p2[0] - p1[0]) ** 2 + (p2[1] - p1[1]) ** 2)\n",
    "\n",
    "t = int(input())\n",
    "for _ in range(t):\n",
    "    n = int(input())\n",
    "    pkg = []\n",
    "    for _ in range(n):\n",
    "        x, y = map(int, input().split())\n",
    "        pkg.append((x, y))\n",
    "\n",
    "    coord_x, coord_y = 0, 0\n",
    "    path = \"\"\n",
    "\n",
    "    while pkg:\n",
    "        pkg.sort(key=lambda point: euclidean_distance((coord_x, coord_y), point))\n",
    "        x_i, y_i = pkg.pop(0)  \n",
    "\n",
    "        if x_i > coord_x:\n",
    "            path += \"R\" * (x_i - coord_x)\n",
    "        elif x_i < coord_x:\n",
    "            path += \"L\" * (coord_x - x_i)\n",
    "\n",
    "        if y_i > coord_y:\n",
    "            path += \"U\" * (y_i - coord_y)\n",
    "        elif y_i < coord_y:\n",
    "            path += \"D\" * (coord_y - y_i)\n",
    "\n",
    "        coord_x, coord_y = x_i, y_i\n",
    "\n",
    "    print(path)\n",
    "    print(len(path))"
   ]
  },
  {
   "cell_type": "code",
   "execution_count": 21,
   "metadata": {},
   "outputs": [],
   "source": [
    "def calculate_paths(t, pkg_list):\n",
    "    results = []\n",
    "    \n",
    "    for i in range(t):\n",
    "        pkg = pkg_list[i]\n",
    "        pkg.sort()\n",
    "        \n",
    "        coord_x, coord_y = 0, 0\n",
    "        path = \"\"\n",
    "        \n",
    "        for x_i, y_i in pkg:\n",
    "            right_move = 0\n",
    "            left_move = 0\n",
    "            up_move = 0\n",
    "            down_move = 0\n",
    "            \n",
    "            if x_i > coord_x:\n",
    "                right_move = x_i - coord_x\n",
    "            elif x_i < coord_x:\n",
    "                left_move = coord_x - x_i\n",
    "            \n",
    "            if y_i > coord_y:\n",
    "                up_move = y_i - coord_y\n",
    "            elif y_i < coord_y:\n",
    "                down_move = coord_y - y_i\n",
    "            \n",
    "            path += \"R\" * right_move\n",
    "            path += \"L\" * left_move\n",
    "            path += \"U\" * up_move\n",
    "            path += \"D\" * down_move\n",
    "\n",
    "            coord_x, coord_y = x_i, y_i\n",
    "\n",
    "        results.append(path)\n",
    "    \n",
    "    return results\n"
   ]
  },
  {
   "cell_type": "code",
   "execution_count": 24,
   "metadata": {},
   "outputs": [
    {
     "name": "stdout",
     "output_type": "stream",
     "text": [
      "UURRDDUU\n",
      "8\n"
     ]
    }
   ],
   "source": [
    "# Definizione dei dati di input\n",
    "t = 1\n",
    "pkg_list = [\n",
    "    [(0, 2), (2, 0),(2,2)]\n",
    "]\n",
    "\n",
    "# Richiamo della funzione\n",
    "paths = calculate_paths(t, pkg_list)\n",
    "\n",
    "# Stampa dei risultati\n",
    "for path in paths:\n",
    "    print(path)\n",
    "    print(len(path))\n"
   ]
  },
  {
   "cell_type": "code",
   "execution_count": null,
   "metadata": {},
   "outputs": [],
   "source": [
    "1\n",
    "3\n",
    "2 2\n",
    "1 1\n",
    "3 3\n",
    "\n",
    "\n",
    "1\n",
    "2\n",
    "1 1\n",
    "0 2\n",
    "\n",
    "1\n",
    "4\n",
    "1 0\n",
    "2 2\n",
    "3 3\n",
    "4 4\n",
    "\n",
    "2\n",
    "3\n",
    "0 1\n",
    "2 2\n",
    "1 1\n",
    "4\n",
    "3 3\n",
    "4 2\n",
    "5 5\n",
    "0 2\n"
   ]
  }
 ],
 "metadata": {
  "kernelspec": {
   "display_name": "base",
   "language": "python",
   "name": "python3"
  },
  "language_info": {
   "codemirror_mode": {
    "name": "ipython",
    "version": 3
   },
   "file_extension": ".py",
   "mimetype": "text/x-python",
   "name": "python",
   "nbconvert_exporter": "python",
   "pygments_lexer": "ipython3",
   "version": "3.12.4"
  }
 },
 "nbformat": 4,
 "nbformat_minor": 2
}
